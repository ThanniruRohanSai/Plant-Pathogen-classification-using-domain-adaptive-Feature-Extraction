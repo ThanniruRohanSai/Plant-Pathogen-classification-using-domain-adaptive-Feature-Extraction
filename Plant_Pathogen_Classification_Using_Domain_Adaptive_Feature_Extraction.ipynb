{
  "cells": [
    {
      "cell_type": "code",
      "execution_count": null,
      "metadata": {
        "colab": {
          "base_uri": "https://localhost:8080/"
        },
        "id": "YDK_akjrcZAv",
        "outputId": "09721823-a25b-47b9-bd22-a28bfeca76f7"
      },
      "outputs": [
        {
          "output_type": "stream",
          "name": "stdout",
          "text": [
            "Mounted at /content/drive\n"
          ]
        }
      ],
      "source": [
        "from google.colab import drive\n",
        "drive.mount('/content/drive')"
      ]
    },
    {
      "cell_type": "code",
      "execution_count": null,
      "metadata": {
        "id": "UlQpA-z7_kwI"
      },
      "outputs": [],
      "source": [
        "zip_file_path = '/content/drive/MyDrive/archive (1).zip'\n",
        "\n",
        "destination_folder = '/content/drive/MyDrive/Plant Village'\n",
        "import zipfile\n",
        "with zipfile.ZipFile(zip_file_path, 'r') as zip_ref:\n",
        "    zip_ref.extractall(destination_folder)"
      ]
    },
    {
      "cell_type": "code",
      "execution_count": null,
      "metadata": {
        "colab": {
          "base_uri": "https://localhost:8080/"
        },
        "id": "50tIuxsW6it_",
        "outputId": "57d37663-7670-4368-d291-3acdf845a958"
      },
      "outputs": [
        {
          "output_type": "stream",
          "name": "stdout",
          "text": [
            "Found GPU at: /device:GPU:0\n",
            "Found 43456 images belonging to 38 classes.\n",
            "Found 10849 images belonging to 38 classes.\n",
            "Downloading data from https://storage.googleapis.com/tensorflow/keras-applications/resnet/resnet50_weights_tf_dim_ordering_tf_kernels_notop.h5\n",
            "94765736/94765736 [==============================] - 1s 0us/step\n",
            "Epoch 1/5\n",
            "1358/1358 [==============================] - 565s 380ms/step - loss: 0.3903 - accuracy: 0.8843 - val_loss: 0.3680 - val_accuracy: 0.8874\n",
            "Epoch 2/5\n",
            "1358/1358 [==============================] - 515s 379ms/step - loss: 0.1277 - accuracy: 0.9583 - val_loss: 0.4620 - val_accuracy: 0.8696\n",
            "Epoch 3/5\n",
            "1358/1358 [==============================] - 515s 379ms/step - loss: 0.0925 - accuracy: 0.9692 - val_loss: 1.3839 - val_accuracy: 0.7463\n",
            "Epoch 4/5\n",
            "1358/1358 [==============================] - 563s 415ms/step - loss: 0.0708 - accuracy: 0.9768 - val_loss: 0.2670 - val_accuracy: 0.9203\n",
            "Epoch 5/5\n",
            "1358/1358 [==============================] - 522s 384ms/step - loss: 0.0595 - accuracy: 0.9801 - val_loss: 1.1022 - val_accuracy: 0.7471\n"
          ]
        },
        {
          "output_type": "stream",
          "name": "stderr",
          "text": [
            "/usr/local/lib/python3.10/dist-packages/keras/src/engine/training.py:3103: UserWarning: You are saving your model as an HDF5 file via `model.save()`. This file format is considered legacy. We recommend using instead the native Keras format, e.g. `model.save('my_model.keras')`.\n",
            "  saving_api.save_model(\n"
          ]
        }
      ],
      "source": [
        "import os\n",
        "import numpy as np\n",
        "\n",
        "import tensorflow as tf\n",
        "from tensorflow.keras.applications import ResNet50\n",
        "from tensorflow.keras import models, layers\n",
        "from tensorflow.keras.preprocessing.image import ImageDataGenerator\n",
        "from tensorflow.keras.applications import ResNet50\n",
        "from tensorflow.keras import layers, models\n",
        "from sklearn.model_selection import train_test_split\n",
        "\n",
        "dataset_dir = '/content/drive/MyDrive/Plant Village/plantvillage dataset/color'\n",
        "img_size = (224, 224)\n",
        "batch_size = 32\n",
        "num_classes = 38\n",
        "datagen = ImageDataGenerator(rescale=1./255, validation_split=0.2)\n",
        "device_name = tf.test.gpu_device_name()\n",
        "if device_name != '/device:GPU:0':\n",
        "    raise SystemError('GPU device not found')\n",
        "print('Found GPU at: {}'.format(device_name))\n",
        "train_generator = datagen.flow_from_directory(\n",
        "    dataset_dir,\n",
        "    target_size=img_size,\n",
        "    batch_size=batch_size,\n",
        "    class_mode='categorical',\n",
        "    shuffle=True,\n",
        "    subset='training'\n",
        ")\n",
        "\n",
        "val_generator = datagen.flow_from_directory(\n",
        "    dataset_dir,\n",
        "    target_size=img_size,\n",
        "    batch_size=batch_size,\n",
        "    class_mode='categorical',\n",
        "    shuffle=False,\n",
        "    subset='validation'\n",
        ")\n",
        "\n",
        "X_train, X_test, y_train, y_test = train_test_split(train_generator.filenames, train_generator.classes, test_size=0.2, random_state=42)\n",
        "\n",
        "base_model = ResNet50(weights='imagenet', include_top=False, input_shape=(224, 224, 3))\n",
        "\n",
        "model = models.Sequential()\n",
        "model.add(base_model)\n",
        "model.add(layers.GlobalAveragePooling2D())\n",
        "model.add(layers.Dense(256, activation='relu'))\n",
        "model.add(layers.Dense(train_generator.num_classes, activation='softmax'))\n",
        "\n",
        "model.compile(optimizer='adam', loss='categorical_crossentropy', metrics=['accuracy'])\n",
        "model.fit(train_generator, epochs=5, validation_data=val_generator)\n",
        "\n",
        "model.save(\"plant_diseaseResnet_final.h5\")"
      ]
    },
    {
      "cell_type": "code",
      "source": [
        "import os\n",
        "import numpy as np\n",
        "\n",
        "import tensorflow as tf\n",
        "from tensorflow.keras.applications import ResNet50\n",
        "from tensorflow.keras import models, layers\n",
        "from tensorflow.keras.preprocessing.image import ImageDataGenerator\n",
        "from tensorflow.keras.applications import ResNet50\n",
        "from tensorflow.keras import layers, models\n",
        "from sklearn.model_selection import train_test_split\n",
        "\n",
        "dataset_dir = '/content/drive/MyDrive/Plant Pathogen/pathogen'\n",
        "img_size = (224, 224)\n",
        "batch_size = 32\n",
        "num_classes = 5\n",
        "datagen = ImageDataGenerator(rescale=1./255, validation_split=0.2)\n",
        "device_name = tf.test.gpu_device_name()\n",
        "if device_name != '/device:GPU:0':\n",
        "    raise SystemError('GPU device not found')\n",
        "print('Found GPU at: {}'.format(device_name))\n",
        "train_generator = datagen.flow_from_directory(\n",
        "    dataset_dir,\n",
        "    target_size=img_size,\n",
        "    batch_size=batch_size,\n",
        "    class_mode='categorical',\n",
        "    shuffle=True,\n",
        "    subset='training'\n",
        ")\n",
        "\n",
        "val_generator = datagen.flow_from_directory(\n",
        "    dataset_dir,\n",
        "    target_size=img_size,\n",
        "    batch_size=batch_size,\n",
        "    class_mode='categorical',\n",
        "    shuffle=False,\n",
        "    subset='validation'\n",
        ")\n",
        "\n",
        "X_train, X_test, y_train, y_test = train_test_split(train_generator.filenames, train_generator.classes, test_size=0.2, random_state=42)\n",
        "\n",
        "base_model = ResNet50(weights='imagenet', include_top=False, input_shape=(224, 224, 3))\n",
        "\n",
        "model = models.Sequential()\n",
        "model.add(base_model)\n",
        "model.add(layers.GlobalAveragePooling2D())\n",
        "model.add(layers.Dense(256, activation='relu'))\n",
        "model.add(layers.Dense(train_generator.num_classes, activation='softmax'))\n",
        "\n",
        "model.compile(optimizer='adam', loss='categorical_crossentropy', metrics=['accuracy'])\n",
        "model.fit(train_generator, epochs=5, validation_data=val_generator)\n",
        "\n",
        "model.save(\"plant_pathologyResnet_final.h5\")"
      ],
      "metadata": {
        "colab": {
          "base_uri": "https://localhost:8080/"
        },
        "id": "tEQj9sVN3luO",
        "outputId": "ae298796-5127-4c9b-afeb-e1e8a175e4ec"
      },
      "execution_count": null,
      "outputs": [
        {
          "output_type": "stream",
          "name": "stdout",
          "text": [
            "Found GPU at: /device:GPU:0\n",
            "Found 32000 images belonging to 5 classes.\n",
            "Found 7997 images belonging to 5 classes.\n",
            "Epoch 1/5\n",
            "1000/1000 [==============================] - 549s 518ms/step - loss: 0.2229 - accuracy: 0.9304 - val_loss: 1.5347 - val_accuracy: 0.6924\n",
            "Epoch 2/5\n",
            "1000/1000 [==============================] - 383s 383ms/step - loss: 0.1257 - accuracy: 0.9603 - val_loss: 3.7856 - val_accuracy: 0.4767\n",
            "Epoch 3/5\n",
            "1000/1000 [==============================] - 384s 384ms/step - loss: 0.0734 - accuracy: 0.9761 - val_loss: 0.5425 - val_accuracy: 0.8613\n",
            "Epoch 4/5\n",
            "1000/1000 [==============================] - 383s 383ms/step - loss: 0.0671 - accuracy: 0.9784 - val_loss: 0.3071 - val_accuracy: 0.9075\n",
            "Epoch 5/5\n",
            "1000/1000 [==============================] - 383s 383ms/step - loss: 0.0538 - accuracy: 0.9811 - val_loss: 6.4928 - val_accuracy: 0.3686\n"
          ]
        }
      ]
    },
    {
      "cell_type": "code",
      "source": [
        "zip_file_path = '/content/drive/MyDrive/Plant Pathogen.zip'\n",
        "\n",
        "destination_folder = '/content/drive/MyDrive/Plant Pathogen'\n",
        "import zipfile\n",
        "with zipfile.ZipFile(zip_file_path, 'r') as zip_ref:\n",
        "    zip_ref.extractall(destination_folder)"
      ],
      "metadata": {
        "id": "utdoXFsouQWG"
      },
      "execution_count": null,
      "outputs": []
    },
    {
      "cell_type": "code",
      "source": [
        "import tensorflow as tf\n",
        "from keras.models import load_model\n",
        "from keras.layers import Dense\n",
        "from keras.models import Model\n",
        "import os\n",
        "import numpy as np\n",
        "\n",
        "import tensorflow as tf\n",
        "from tensorflow.keras.applications import ResNet50\n",
        "from tensorflow.keras import models, layers\n",
        "from tensorflow.keras.preprocessing.image import ImageDataGenerator\n",
        "from tensorflow.keras.applications import ResNet50\n",
        "from tensorflow.keras import layers, models\n",
        "from sklearn.model_selection import train_test_split\n",
        "import time\n",
        "\n",
        "\n",
        "resnet_model = load_model(r'/content/plant_diseaseResnet_final.h5')\n",
        "\n",
        "feature_extractor = Model(inputs=resnet_model.input, outputs=resnet_model.layers[-2].output)\n",
        "\n",
        "for layer in feature_extractor.layers:\n",
        "    layer.trainable = False\n",
        "\n",
        "def create_nn(input_shape, num_classes, hidden_layers):\n",
        "    model = tf.keras.Sequential()\n",
        "    model.add(Dense(hidden_layers[0], activation=\"relu\", input_shape=input_shape))\n",
        "    for units in hidden_layers[1:]:\n",
        "        model.add(Dense(units, activation='relu'))\n",
        "    model.add(Dense(num_classes, activation='softmax'))\n",
        "    return model\n",
        "\n",
        "output_shape = feature_extractor.output_shape[1:]\n",
        "\n",
        "num_classes = 5\n",
        "\n",
        "hidden_layers = [128, 64]\n",
        "\n",
        "nn_model = create_nn(output_shape, num_classes, hidden_layers)\n",
        "\n",
        "combined_model = tf.keras.Sequential([feature_extractor, nn_model])\n",
        "\n",
        "combined_model.compile(optimizer='adam', loss='categorical_crossentropy', metrics=['accuracy'])\n",
        "combined_model.fit(train_generator, epochs=15, validation_data=val_generator)"
      ],
      "metadata": {
        "colab": {
          "base_uri": "https://localhost:8080/"
        },
        "id": "p8uKrblSAeMF",
        "outputId": "aa358dfc-4002-4148-9da7-417920023792"
      },
      "execution_count": null,
      "outputs": [
        {
          "output_type": "stream",
          "name": "stdout",
          "text": [
            "Epoch 1/15\n",
            "1000/1000 [==============================] - 237s 233ms/step - loss: 0.1877 - accuracy: 0.9367 - val_loss: 0.2706 - val_accuracy: 0.9143\n",
            "Epoch 2/15\n",
            "1000/1000 [==============================] - 231s 231ms/step - loss: 0.1058 - accuracy: 0.9642 - val_loss: 0.5597 - val_accuracy: 0.8443\n",
            "Epoch 3/15\n",
            "1000/1000 [==============================] - 232s 232ms/step - loss: 0.0889 - accuracy: 0.9685 - val_loss: 0.3791 - val_accuracy: 0.8638\n",
            "Epoch 4/15\n",
            "1000/1000 [==============================] - 230s 230ms/step - loss: 0.0799 - accuracy: 0.9721 - val_loss: 0.3352 - val_accuracy: 0.8955\n",
            "Epoch 5/15\n",
            "1000/1000 [==============================] - 228s 228ms/step - loss: 0.0732 - accuracy: 0.9742 - val_loss: 0.3882 - val_accuracy: 0.8796\n",
            "Epoch 6/15\n",
            "1000/1000 [==============================] - 267s 267ms/step - loss: 0.0676 - accuracy: 0.9760 - val_loss: 0.3486 - val_accuracy: 0.8873\n",
            "Epoch 7/15\n",
            "1000/1000 [==============================] - 231s 231ms/step - loss: 0.0616 - accuracy: 0.9770 - val_loss: 0.3209 - val_accuracy: 0.9048\n",
            "Epoch 8/15\n",
            "1000/1000 [==============================] - 231s 231ms/step - loss: 0.0588 - accuracy: 0.9789 - val_loss: 0.3920 - val_accuracy: 0.8880\n",
            "Epoch 9/15\n",
            "1000/1000 [==============================] - 230s 230ms/step - loss: 0.0558 - accuracy: 0.9792 - val_loss: 0.2585 - val_accuracy: 0.9303\n",
            "Epoch 10/15\n",
            "1000/1000 [==============================] - 230s 230ms/step - loss: 0.0535 - accuracy: 0.9805 - val_loss: 0.3048 - val_accuracy: 0.9262\n",
            "Epoch 11/15\n",
            " 131/1000 [==>...........................] - ETA: 3:58 - loss: 0.0440 - accuracy: 0.9852"
          ]
        }
      ]
    },
    {
      "cell_type": "code",
      "execution_count": null,
      "metadata": {
        "id": "GZybaGtyEb6A"
      },
      "outputs": [],
      "source": []
    }
  ],
  "metadata": {
    "colab": {
      "provenance": [],
      "gpuType": "T4"
    },
    "kernelspec": {
      "display_name": "Python 3",
      "name": "python3"
    },
    "language_info": {
      "name": "python"
    },
    "accelerator": "GPU"
  },
  "nbformat": 4,
  "nbformat_minor": 0
}